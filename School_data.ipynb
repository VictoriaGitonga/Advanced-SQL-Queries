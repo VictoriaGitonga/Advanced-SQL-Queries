{
  "nbformat": 4,
  "nbformat_minor": 0,
  "metadata": {
    "colab": {
      "provenance": []
    },
    "kernelspec": {
      "name": "python3",
      "display_name": "Python 3"
    },
    "language_info": {
      "name": "python"
    }
  },
  "cells": [
    {
      "cell_type": "code",
      "execution_count": 1,
      "metadata": {
        "id": "1XIWvH9oI4we"
      },
      "outputs": [],
      "source": [
        "%load_ext sql"
      ]
    },
    {
      "cell_type": "code",
      "source": [
        "%sql sqlite:///stud.db"
      ],
      "metadata": {
        "id": "PWmR895pJgxH"
      },
      "execution_count": 2,
      "outputs": []
    },
    {
      "cell_type": "code",
      "source": [
        "%%sql CREATE TABLE personal_details (\n",
        "national_ID INTEGER(15) , stud_ID VARCHAR(15),stud_name VARCHAR(100),\n",
        "phone_number VARCHAR(15),age INTEGER, gender VARCHAR(10),\n",
        "PRIMARY KEY(national_ID) );"
      ],
      "metadata": {
        "colab": {
          "base_uri": "https://localhost:8080/"
        },
        "id": "O1IWcrdwKGKk",
        "outputId": "20da6ed8-1f07-436b-bc50-5c4abb1e084d"
      },
      "execution_count": 3,
      "outputs": [
        {
          "output_type": "stream",
          "name": "stdout",
          "text": [
            " * sqlite:///stud.db\n",
            "Done.\n"
          ]
        },
        {
          "output_type": "execute_result",
          "data": {
            "text/plain": [
              "[]"
            ]
          },
          "metadata": {},
          "execution_count": 3
        }
      ]
    },
    {
      "cell_type": "code",
      "source": [
        "%%sql INSERT INTO personal_details (national_ID,stud_ID,stud_name,phone_number,age,gender)\n",
        "VALUES(\"344534\",\"stud101\",\"Hermione Granger\" ,\"0712345678\",20,\"Male\"),\n",
        "(\"379683\",\"stud102\",\"Draco Malfo\" ,\"0723456781\",21,\"Female\"),\n",
        "(\"347403\",\"stud103\",\"Jayden Wamashati\" ,\"0734567812\",22,\"Male\"),\n",
        "(\"377302\",\"stud104\",\"Ron Weasley\" ,\"0745678123\",19,\"Female\"),\n",
        "(\"336741\",\"stud105\",\"Dolores Umbridge\" ,\"0756781234\",21,\"Male\"),\n",
        "(\"307243\",\"stud106\",\"Hedwig Tonks\" ,\"0767812345\",21,\"Female\"),\n",
        "(\"310932\",\"stud107\",\"Chao Chang\" ,\"0778123456\",22,\"Male\"),\n",
        "(\"343920\",\"stud108\",\"Curfew Yaeitpm\" ,\"0781234567\",20,\"Female\"),\n",
        "(\"345261\",\"stud109\",\"Chaptr Mukenya\" ,\"0722345678\",20,\"Male\"),\n",
        "(\"339152\",\"stud110\",\"Natalie Mpema\" ,\"0733456781\",21,\"Female\"),\n",
        "(\"339746\",\"stud111\",\"Crew Nundi\" ,\"0744567812\",20,\"Male\"),\n",
        "(\"336373\",\"stud112\",\"Bandi Kagunda\" ,\"0755678123\",22,\"Female\"),\n",
        "(\"325252\",\"stud113\",\"Testimony Omolo\" ,\"0766456781\",21,\"Male\"),\n",
        "(\"321746\",\"stud114\",\"Career Mpya\" ,\"0741367812\",20,\"Male\"),\n",
        "(\"390234\",\"stud115\",\"Deamon Anduro\" ,\"0744421123\",22,\"Female\");"
      ],
      "metadata": {
        "colab": {
          "base_uri": "https://localhost:8080/"
        },
        "id": "SlcnCUJ0KNMF",
        "outputId": "a38eb99b-d80b-44d3-91c9-9b030fab7f71"
      },
      "execution_count": 4,
      "outputs": [
        {
          "output_type": "stream",
          "name": "stdout",
          "text": [
            " * sqlite:///stud.db\n",
            "15 rows affected.\n"
          ]
        },
        {
          "output_type": "execute_result",
          "data": {
            "text/plain": [
              "[]"
            ]
          },
          "metadata": {},
          "execution_count": 4
        }
      ]
    },
    {
      "cell_type": "code",
      "source": [
        "%%sql CREATE TABLE school_details(stud_ID VARCHAR(15), current_home_county VARCHAR(20),\n",
        "secondary_school_county VARCHAR(20), residence VARCHAR(15), stud_email VARCHAR(50),\n",
        "PRIMARY KEY (stud_ID)  );"
      ],
      "metadata": {
        "colab": {
          "base_uri": "https://localhost:8080/"
        },
        "id": "-qWUdPzEKSM5",
        "outputId": "f8f09f68-5256-44d3-dec1-99c1848c9465"
      },
      "execution_count": 5,
      "outputs": [
        {
          "output_type": "stream",
          "name": "stdout",
          "text": [
            " * sqlite:///stud.db\n",
            "Done.\n"
          ]
        },
        {
          "output_type": "execute_result",
          "data": {
            "text/plain": [
              "[]"
            ]
          },
          "metadata": {},
          "execution_count": 5
        }
      ]
    },
    {
      "cell_type": "code",
      "source": [
        "%%sql INSERT INTO school_details(stud_ID)\n",
        "SELECT stud_ID\n",
        "FROM personal_details;"
      ],
      "metadata": {
        "colab": {
          "base_uri": "https://localhost:8080/"
        },
        "id": "k56RPvIuKYaA",
        "outputId": "f12d7049-b48a-4d0c-b83c-6c83b20ff4fc"
      },
      "execution_count": 6,
      "outputs": [
        {
          "output_type": "stream",
          "name": "stdout",
          "text": [
            " * sqlite:///stud.db\n",
            "15 rows affected.\n"
          ]
        },
        {
          "output_type": "execute_result",
          "data": {
            "text/plain": [
              "[]"
            ]
          },
          "metadata": {},
          "execution_count": 6
        }
      ]
    },
    {
      "cell_type": "code",
      "source": [
        "%%sql UPDATE school_details\n",
        "SET stud_email = (SELECT REPLACE (stud_name,' ','') || '@zinduaschool.ac'\n",
        "                  FROM personal_details\n",
        "                  WHERE school_details.stud_ID = personal_details.stud_ID);\n",
        "\n"
      ],
      "metadata": {
        "colab": {
          "base_uri": "https://localhost:8080/"
        },
        "id": "M6XM05QzKdhn",
        "outputId": "67a9037b-4771-47a7-ce90-6a8d065927b7"
      },
      "execution_count": 8,
      "outputs": [
        {
          "output_type": "stream",
          "name": "stdout",
          "text": [
            " * sqlite:///stud.db\n",
            "15 rows affected.\n"
          ]
        },
        {
          "output_type": "execute_result",
          "data": {
            "text/plain": [
              "[]"
            ]
          },
          "metadata": {},
          "execution_count": 8
        }
      ]
    },
    {
      "cell_type": "code",
      "source": [
        "%%sql\n",
        "UPDATE school_details SET current_home_county=\"Nakuru\", secondary_school_county=\"Nairobi\", residence=\"In school\" WHERE stud_ID=\"stud101\";\n",
        "UPDATE school_details SET current_home_county=\"Nairobi\", secondary_school_county=\"Nakuru\", residence=\"In school\" WHERE stud_ID=\"stud102\";\n",
        "UPDATE school_details SET current_home_county=\"Samburu\", secondary_school_county=\"Nairobi\", residence=\"Out of school\" WHERE stud_ID=\"stud103\";\n",
        "UPDATE school_details SET current_home_county=\"Kericho\", secondary_school_county=\"Nairobi\", residence=\"In school\" WHERE stud_ID=\"stud104\";\n",
        "UPDATE school_details SET current_home_county=\"Nyamira\", secondary_school_county=\"Nakuru\", residence=\"In school\" WHERE stud_ID=\"stud105\";\n",
        "UPDATE school_details SET current_home_county=\"Kisumu\", secondary_school_county=\"Nairobi\", residence=\"Out of school\" WHERE stud_ID=\"stud106\";\n",
        "UPDATE school_details SET current_home_county=\"Nakuru\", secondary_school_county=\"Nairobi\", residence=\"Out of school\" WHERE stud_ID=\"stud107\";\n",
        "UPDATE school_details SET current_home_county=\"Kisumu\", secondary_school_county=\"Mombasa\", residence=\"Out of school\" WHERE stud_ID=\"stud108\";\n",
        "UPDATE school_details SET current_home_county=\"Kericho\", secondary_school_county=\"Mombasa\", residence=\"In school\" WHERE stud_ID=\"stud109\";\n",
        "UPDATE school_details SET current_home_county=\"Nakuru\", secondary_school_county=\"Mombasa\", residence=\"In school\" WHERE stud_ID=\"stud110\";\n",
        "UPDATE school_details SET current_home_county=\"Kiambu\", secondary_school_county=\"Turkana\", residence=\"In school\" WHERE stud_ID=\"stud111\";\n",
        "UPDATE school_details SET current_home_county=\"Nairobi\", secondary_school_county=\"Nakuru\", residence=\"In school\" WHERE stud_ID=\"stud112\";\n",
        "UPDATE school_details SET current_home_county=\"Samburu\", secondary_school_county=\"Taita Taveta\", residence=\"In school\" WHERE stud_ID=\"stud113\";\n",
        "UPDATE school_details SET current_home_county=\"Kericho\", secondary_school_county=\"Nairobi\", residence=\"Out of school\" WHERE stud_ID=\"stud114\";\n",
        "UPDATE school_details SET current_home_county=\"Kiambu\", secondary_school_county=\"Mombasa\", residence=\"In school\" WHERE stud_ID=\"stud115\";\n"
      ],
      "metadata": {
        "colab": {
          "base_uri": "https://localhost:8080/"
        },
        "id": "V1fIykQTLAZo",
        "outputId": "c48abe93-cbb6-4347-f9e3-9f31ac075b75"
      },
      "execution_count": 9,
      "outputs": [
        {
          "output_type": "stream",
          "name": "stdout",
          "text": [
            " * sqlite:///stud.db\n",
            "1 rows affected.\n",
            "1 rows affected.\n",
            "1 rows affected.\n",
            "1 rows affected.\n",
            "1 rows affected.\n",
            "1 rows affected.\n",
            "1 rows affected.\n",
            "1 rows affected.\n",
            "1 rows affected.\n",
            "1 rows affected.\n",
            "1 rows affected.\n",
            "1 rows affected.\n",
            "1 rows affected.\n",
            "1 rows affected.\n",
            "1 rows affected.\n"
          ]
        },
        {
          "output_type": "execute_result",
          "data": {
            "text/plain": [
              "[]"
            ]
          },
          "metadata": {},
          "execution_count": 9
        }
      ]
    },
    {
      "cell_type": "code",
      "source": [
        "%%sql CREATE TABLE contact_details (stud_email VARCHAR(50) , phone_number VARCHAR(15), next_of_kin_name VARCHAR(50),next_of_kin_relation VARCHAR(10), next_of_kin_contacts VARCHAR(13) );\n",
        "INSERT INTO contact_details(phone_number, next_of_kin_name,next_of_kin_relation,next_of_kin_contacts)\n",
        "VALUES(\"0712345678\",\"Darius Young\",\"Father\",\"0782382383\"),\n",
        "(\"0723456781\",\"Lucy Nderitu\",\"Mother\",\"0723238983\"),\n",
        "(\"0734567812\",\"Jerotich Koech\",\"Mother\",\"0779343126\"),\n",
        "(\"0745678123\",\"Mwaura Mwangi\",\"Father\",\"0798246347\"),\n",
        "(\"0756781234\",\"Ian Patrick\",\"Father\",\"0711234453\"),\n",
        "(\"0767812345\",\"Lebron James\",\"Father\",\"0765439233\"),\n",
        "(\"0778123456\",\"Magna Carter\",\"Father\",\"0702526243\"),\n",
        "(\"0781234567\",\"Cindy Wayne\",\"Mother\",\"0747282839\"),\n",
        "(\"0722345678\",\"Farah Maalim\",\"Mother\",\"0753927482\"),\n",
        "(\"0733456781\",\"Faiba Mbugua\",\"Father\",\"0713245748\"),\n",
        "(\"0744567812\",\"John Doe\",\"Father\",\"0725737383\"),\n",
        "(\"0755678123\",\"Klaus Michealson\",\"Father\",\"0789346276\"),\n",
        "(\"0766456781\",\"Suluhu Amdany\",\"Mother\",\"0785739259\"),\n",
        "(\"0741367812\",\"Daisy Auma\",\"Mother\",\"0791344537\"),\n",
        "(\"0755421123\",\"Getrude Karen\",\"Mother\",\"0765748244\");\n"
      ],
      "metadata": {
        "colab": {
          "base_uri": "https://localhost:8080/"
        },
        "id": "5sW5dd1xLN-F",
        "outputId": "e8f23d94-0c85-4d2a-8c86-f3d1cfb85b30"
      },
      "execution_count": 10,
      "outputs": [
        {
          "output_type": "stream",
          "name": "stdout",
          "text": [
            " * sqlite:///stud.db\n",
            "Done.\n",
            "15 rows affected.\n"
          ]
        },
        {
          "output_type": "execute_result",
          "data": {
            "text/plain": [
              "[]"
            ]
          },
          "metadata": {},
          "execution_count": 10
        }
      ]
    },
    {
      "cell_type": "code",
      "source": [
        "%%sql UPDATE contact_details\n",
        "SET stud_email = (SELECT school_details.stud_email\n",
        "FROM school_details, personal_details\n",
        "WHERE school_details.stud_ID = personal_details.stud_ID\n",
        "AND personal_details.phone_number = contact_details.phone_number);\n"
      ],
      "metadata": {
        "colab": {
          "base_uri": "https://localhost:8080/"
        },
        "id": "BKmtkS3ELYHU",
        "outputId": "f4e534e9-3b3a-4683-80e2-bfc7a5d8f775"
      },
      "execution_count": 11,
      "outputs": [
        {
          "output_type": "stream",
          "name": "stdout",
          "text": [
            " * sqlite:///stud.db\n",
            "15 rows affected.\n"
          ]
        },
        {
          "output_type": "execute_result",
          "data": {
            "text/plain": [
              "[]"
            ]
          },
          "metadata": {},
          "execution_count": 11
        }
      ]
    },
    {
      "cell_type": "code",
      "source": [
        "%%sql ALTER TABLE contact_details\n",
        "MODIFY stud_email VARCHAR(50) PRIMARY KEY ;"
      ],
      "metadata": {
        "colab": {
          "base_uri": "https://localhost:8080/"
        },
        "id": "5gA3ApHpLdY0",
        "outputId": "b3477c55-d78b-4ec2-8474-045a5db10797"
      },
      "execution_count": 12,
      "outputs": [
        {
          "output_type": "stream",
          "name": "stdout",
          "text": [
            " * sqlite:///stud.db\n",
            "(sqlite3.OperationalError) near \"MODIFY\": syntax error\n",
            "[SQL: ALTER TABLE contact_details\n",
            "MODIFY stud_email VARCHAR(50) PRIMARY KEY ;]\n",
            "(Background on this error at: https://sqlalche.me/e/20/e3q8)\n"
          ]
        }
      ]
    },
    {
      "cell_type": "code",
      "source": [
        "%%sql CREATE TABLE financial_details (stud_ID VARCHAR(15) ,stud_name VARCHAR(50) ,\n",
        "sem_fee INTEGER(6) , fee_paid INTEGER(6),\n",
        "PRIMARY KEY(stud_ID) );"
      ],
      "metadata": {
        "colab": {
          "base_uri": "https://localhost:8080/"
        },
        "id": "2WvAZsxHMGW8",
        "outputId": "fdaa1d8c-e597-46fd-ced7-c474e2d88451"
      },
      "execution_count": 13,
      "outputs": [
        {
          "output_type": "stream",
          "name": "stdout",
          "text": [
            " * sqlite:///stud.db\n",
            "Done.\n"
          ]
        },
        {
          "output_type": "execute_result",
          "data": {
            "text/plain": [
              "[]"
            ]
          },
          "metadata": {},
          "execution_count": 13
        }
      ]
    },
    {
      "cell_type": "code",
      "source": [
        "%%sql INSERT INTO financial_details(stud_ID,stud_name)\n",
        "SELECT personal_details.stud_ID, personal_details.stud_name\n",
        "FROM personal_details;"
      ],
      "metadata": {
        "colab": {
          "base_uri": "https://localhost:8080/"
        },
        "id": "6pKKjenwMQs4",
        "outputId": "50a4e8cb-9305-4f81-ff84-41e4567ff533"
      },
      "execution_count": 14,
      "outputs": [
        {
          "output_type": "stream",
          "name": "stdout",
          "text": [
            " * sqlite:///stud.db\n",
            "15 rows affected.\n"
          ]
        },
        {
          "output_type": "execute_result",
          "data": {
            "text/plain": [
              "[]"
            ]
          },
          "metadata": {},
          "execution_count": 14
        }
      ]
    },
    {
      "cell_type": "code",
      "source": [
        "%%sql\n",
        "UPDATE financial_details SET sem_fee = 25000, fee_paid=25000 WHERE stud_ID = \"stud101\";\n",
        "UPDATE financial_details SET sem_fee= 25000, fee_paid=19000 WHERE stud_ID = \"stud102\";\n",
        "UPDATE financial_details SET sem_fee= 21900, fee_paid=20000 WHERE stud_ID = \"stud103\";\n",
        "UPDATE financial_details SET sem_fee= 22000, fee_paid=22000 WHERE stud_ID = \"stud104\";\n",
        "UPDATE financial_details SET sem_fee= 25000, fee_paid=23400 WHERE stud_ID = \"stud105\";\n",
        "UPDATE financial_details SET sem_fee= 25000, fee_paid=27000 WHERE stud_ID = \"stud106\";\n",
        "UPDATE financial_details SET sem_fee= 24230, fee_paid=21200 WHERE stud_ID = \"stud107\";\n",
        "UPDATE financial_details SET sem_fee= 25000, fee_paid=23500 WHERE stud_ID = \"stud108\";\n",
        "UPDATE financial_details SET sem_fee= 25000, fee_paid=24500 WHERE stud_ID = \"stud109\";\n",
        "UPDATE financial_details SET sem_fee= 25000, fee_paid=25000 WHERE stud_ID = \"stud110\";\n",
        "UPDATE financial_details SET sem_fee= 26000, fee_paid=26000 WHERE stud_ID = \"stud111\";\n",
        "UPDATE financial_details SET sem_fee= 25000, fee_paid=20900 WHERE stud_ID = \"stud112\";\n",
        "UPDATE financial_details SET sem_fee= 25000, fee_paid=22300 WHERE stud_ID = \"stud113\";\n",
        "UPDATE financial_details SET sem_fee= 19000, fee_paid=19000 WHERE stud_ID = \"stud114\";\n",
        "UPDATE financial_details SET sem_fee= 20800, fee_paid=20800 WHERE stud_ID = \"stud115\";\n",
        ""
      ],
      "metadata": {
        "colab": {
          "base_uri": "https://localhost:8080/"
        },
        "id": "5ilKGj8QMYA5",
        "outputId": "f504ab73-8a88-4260-911c-e1fba76b0c53"
      },
      "execution_count": 15,
      "outputs": [
        {
          "output_type": "stream",
          "name": "stdout",
          "text": [
            " * sqlite:///stud.db\n",
            "1 rows affected.\n",
            "1 rows affected.\n",
            "1 rows affected.\n",
            "1 rows affected.\n",
            "1 rows affected.\n",
            "1 rows affected.\n",
            "1 rows affected.\n",
            "1 rows affected.\n",
            "1 rows affected.\n",
            "1 rows affected.\n",
            "1 rows affected.\n",
            "1 rows affected.\n",
            "1 rows affected.\n",
            "1 rows affected.\n",
            "1 rows affected.\n"
          ]
        },
        {
          "output_type": "execute_result",
          "data": {
            "text/plain": [
              "[]"
            ]
          },
          "metadata": {},
          "execution_count": 15
        }
      ]
    },
    {
      "cell_type": "markdown",
      "source": [
        "## Create views for each - new view name in brackets\n"
      ],
      "metadata": {
        "id": "WhsLft5zNJGQ"
      }
    },
    {
      "cell_type": "markdown",
      "source": [
        "- (a) Using JOIN get the student names, school id, email, phone number (new_stud_details)\n"
      ],
      "metadata": {
        "id": "D7VAN2RgNRlt"
      }
    },
    {
      "cell_type": "code",
      "source": [
        "%%sql CREATE VIEW new_stud_details AS\n",
        "SELECT\n",
        "    pd.stud_name,\n",
        "    sd.stud_ID,\n",
        "    sd.stud_email,\n",
        "    cd.phone_number\n",
        "FROM\n",
        "    personal_details pd\n",
        "JOIN\n",
        "    school_details sd ON pd.stud_ID = sd.stud_ID\n",
        "JOIN\n",
        "    contact_details cd ON sd.stud_email = cd.stud_email;"
      ],
      "metadata": {
        "colab": {
          "base_uri": "https://localhost:8080/"
        },
        "id": "7JzJCqB7NZ0i",
        "outputId": "5dc76915-e4cf-4bec-acf8-b66589a798ad"
      },
      "execution_count": 17,
      "outputs": [
        {
          "output_type": "stream",
          "name": "stdout",
          "text": [
            " * sqlite:///stud.db\n",
            "(sqlite3.OperationalError) table new_stud_details already exists\n",
            "[SQL: CREATE VIEW new_stud_details AS\n",
            "SELECT \n",
            "    pd.stud_name,\n",
            "    sd.stud_ID,\n",
            "    sd.stud_email,\n",
            "    cd.phone_number\n",
            "FROM \n",
            "    personal_details pd\n",
            "JOIN \n",
            "    school_details sd ON pd.stud_ID = sd.stud_ID\n",
            "JOIN \n",
            "    contact_details cd ON sd.stud_email = cd.stud_email;]\n",
            "(Background on this error at: https://sqlalche.me/e/20/e3q8)\n"
          ]
        }
      ]
    },
    {
      "cell_type": "markdown",
      "source": [
        "- (b) Create a table with all the details from contacts to school and financial details (full_stud_details)"
      ],
      "metadata": {
        "id": "0GXgb1MUN2QH"
      }
    },
    {
      "cell_type": "code",
      "source": [
        "%%sql\n",
        "CREATE VIEW full_stud_details AS\n",
        "SELECT\n",
        "    cd.stud_email,\n",
        "    cd.phone_number,\n",
        "    cd.next_of_kin_name,\n",
        "    cd.next_of_kin_relation,\n",
        "    cd.next_of_kin_contacts,\n",
        "    sd.current_home_county,\n",
        "    sd.secondary_school_county,\n",
        "    sd.residence,\n",
        "    fd.stud_name,\n",
        "    fd.sem_fee,\n",
        "    fd.fee_paid\n",
        "FROM\n",
        "    contact_details cd\n",
        "JOIN\n",
        "    school_details sd ON cd.stud_email = sd.stud_email\n",
        "JOIN\n",
        "    financial_details fd ON cd.stud_email = fd.stud_ID;"
      ],
      "metadata": {
        "colab": {
          "base_uri": "https://localhost:8080/"
        },
        "id": "zQh-QzoFN63H",
        "outputId": "404ea972-3aaf-4f2c-db16-8b6d1c83eff4"
      },
      "execution_count": 18,
      "outputs": [
        {
          "output_type": "stream",
          "name": "stdout",
          "text": [
            " * sqlite:///stud.db\n",
            "Done.\n"
          ]
        },
        {
          "output_type": "execute_result",
          "data": {
            "text/plain": [
              "[]"
            ]
          },
          "metadata": {},
          "execution_count": 18
        }
      ]
    },
    {
      "cell_type": "markdown",
      "source": [
        "- (c) Add student names on any empty row of stud_name in financial_details"
      ],
      "metadata": {
        "id": "PPCjniheOGcA"
      }
    },
    {
      "cell_type": "code",
      "source": [
        "%%sql\n",
        "CREATE VIEW financial_details_with_names AS\n",
        "SELECT\n",
        "    fd.stud_ID,\n",
        "    COALESCE(fd.stud_name, pd.stud_name) AS stud_name,\n",
        "    fd.sem_fee,\n",
        "    fd.fee_paid\n",
        "FROM\n",
        "    financial_details fd\n",
        "LEFT JOIN\n",
        "    personal_details pd ON fd.stud_ID = pd.stud_ID;"
      ],
      "metadata": {
        "colab": {
          "base_uri": "https://localhost:8080/"
        },
        "id": "oHcWHpSYOMX8",
        "outputId": "7a8d54db-5899-4c9c-ecea-5514a07af324"
      },
      "execution_count": 19,
      "outputs": [
        {
          "output_type": "stream",
          "name": "stdout",
          "text": [
            " * sqlite:///stud.db\n",
            "Done.\n"
          ]
        },
        {
          "output_type": "execute_result",
          "data": {
            "text/plain": [
              "[]"
            ]
          },
          "metadata": {},
          "execution_count": 19
        }
      ]
    },
    {
      "cell_type": "markdown",
      "source": [
        "- (d) On the financial_details table add a column, fee_cleared, that has True if student has cleared current fee and False if not (financial_details_view)"
      ],
      "metadata": {
        "id": "tMdRTPoURAir"
      }
    },
    {
      "cell_type": "code",
      "source": [
        "%%sql CREATE VIEW financial_details_view AS\n",
        "SELECT\n",
        "    stud_ID,\n",
        "    stud_name,\n",
        "    sem_fee,\n",
        "    fee_paid,\n",
        "    CASE\n",
        "        WHEN fee_paid >= sem_fee THEN 'True'\n",
        "        ELSE 'False'\n",
        "    END AS fee_cleared\n",
        "FROM\n",
        "    financial_details_with_names;"
      ],
      "metadata": {
        "colab": {
          "base_uri": "https://localhost:8080/"
        },
        "id": "dWGs0Lj-RMhn",
        "outputId": "07f5e953-f1b0-4b27-9869-9bc5c7b57336"
      },
      "execution_count": 20,
      "outputs": [
        {
          "output_type": "stream",
          "name": "stdout",
          "text": [
            " * sqlite:///stud.db\n",
            "Done.\n"
          ]
        },
        {
          "output_type": "execute_result",
          "data": {
            "text/plain": [
              "[]"
            ]
          },
          "metadata": {},
          "execution_count": 20
        }
      ]
    },
    {
      "cell_type": "markdown",
      "source": [
        "- (e) Get the national ID and name of all students who have cleared their fees (fee_cleared)"
      ],
      "metadata": {
        "id": "BCJYgg_QR6HB"
      }
    },
    {
      "cell_type": "code",
      "source": [
        "%%sql CREATE VIEW fee_cleared AS\n",
        "SELECT\n",
        "    stud_ID,\n",
        "    stud_name\n",
        "FROM\n",
        "    financial_details_view\n",
        "WHERE\n",
        "    fee_cleared = 'True';"
      ],
      "metadata": {
        "colab": {
          "base_uri": "https://localhost:8080/"
        },
        "id": "ejAwTs7WSD7b",
        "outputId": "8d12f071-3eb5-45f6-e4c4-c2fdc678c424"
      },
      "execution_count": 21,
      "outputs": [
        {
          "output_type": "stream",
          "name": "stdout",
          "text": [
            " * sqlite:///stud.db\n",
            "Done.\n"
          ]
        },
        {
          "output_type": "execute_result",
          "data": {
            "text/plain": [
              "[]"
            ]
          },
          "metadata": {},
          "execution_count": 21
        }
      ]
    },
    {
      "cell_type": "markdown",
      "source": [
        "- (f) Get the total sum of fees paid so far and the total current deficit (total_fee_balance)"
      ],
      "metadata": {
        "id": "UJC73vOdSM1N"
      }
    },
    {
      "cell_type": "code",
      "source": [
        "%%sql CREATE VIEW total_fee_balance AS\n",
        "SELECT\n",
        "    SUM(fee_paid) AS total_fees_paid,\n",
        "    SUM(sem_fee - fee_paid) AS total_current_deficit\n",
        "FROM\n",
        "    financial_details_view;"
      ],
      "metadata": {
        "colab": {
          "base_uri": "https://localhost:8080/"
        },
        "id": "MWF1bhd2SSQD",
        "outputId": "e0f3fe74-8b88-498b-d871-400ec798d51d"
      },
      "execution_count": 22,
      "outputs": [
        {
          "output_type": "stream",
          "name": "stdout",
          "text": [
            " * sqlite:///stud.db\n",
            "Done.\n"
          ]
        },
        {
          "output_type": "execute_result",
          "data": {
            "text/plain": [
              "[]"
            ]
          },
          "metadata": {},
          "execution_count": 22
        }
      ]
    },
    {
      "cell_type": "markdown",
      "source": [],
      "metadata": {
        "id": "mXoT-S_tSX00"
      }
    },
    {
      "cell_type": "markdown",
      "source": [
        "- (g) Get the count of students who share a current home county (home_county_count)"
      ],
      "metadata": {
        "id": "5Yv5aNq5SX29"
      }
    },
    {
      "cell_type": "code",
      "source": [
        "%%sql CREATE VIEW home_county_count AS\n",
        "SELECT\n",
        "    current_home_county,\n",
        "    COUNT(*) AS student_count\n",
        "FROM\n",
        "    school_details\n",
        "GROUP BY\n",
        "    current_home_county;"
      ],
      "metadata": {
        "colab": {
          "base_uri": "https://localhost:8080/"
        },
        "id": "GpoOXmqOSdLA",
        "outputId": "e44c43e1-1e9b-4044-e80a-848fb6f129b9"
      },
      "execution_count": 23,
      "outputs": [
        {
          "output_type": "stream",
          "name": "stdout",
          "text": [
            " * sqlite:///stud.db\n",
            "Done.\n"
          ]
        },
        {
          "output_type": "execute_result",
          "data": {
            "text/plain": [
              "[]"
            ]
          },
          "metadata": {},
          "execution_count": 23
        }
      ]
    },
    {
      "cell_type": "markdown",
      "source": [
        "- (h) Get the count of Male and/or Female students from each secondary_school_county (secondary_school_count)"
      ],
      "metadata": {
        "id": "FH6wJeYRSkFc"
      }
    },
    {
      "cell_type": "code",
      "source": [
        "%%sql CREATE VIEW secondary_school_count AS\n",
        "SELECT\n",
        "    secondary_school_county,\n",
        "    SUM(CASE WHEN pd.gender = 'Male' THEN 1 ELSE 0 END) AS male_count,\n",
        "    SUM(CASE WHEN pd.gender = 'Female' THEN 1 ELSE 0 END) AS female_count\n",
        "FROM\n",
        "    school_details sd\n",
        "JOIN\n",
        "    personal_details pd ON sd.stud_ID = pd.stud_ID\n",
        "GROUP BY\n",
        "    secondary_school_county;"
      ],
      "metadata": {
        "colab": {
          "base_uri": "https://localhost:8080/"
        },
        "id": "ovJ2PdX7Snoy",
        "outputId": "e00481db-bd95-4142-e146-c05b6ebd0156"
      },
      "execution_count": 24,
      "outputs": [
        {
          "output_type": "stream",
          "name": "stdout",
          "text": [
            " * sqlite:///stud.db\n",
            "Done.\n"
          ]
        },
        {
          "output_type": "execute_result",
          "data": {
            "text/plain": [
              "[]"
            ]
          },
          "metadata": {},
          "execution_count": 24
        }
      ]
    },
    {
      "cell_type": "markdown",
      "source": [
        "- (i) Get the percentage of students who set their next_of_kin as Mother vs those that set it as Father (kin_percentage)"
      ],
      "metadata": {
        "id": "bQ4Urq0xSuqQ"
      }
    },
    {
      "cell_type": "code",
      "source": [
        "%%sql CREATE VIEW kin_percentage AS\n",
        "SELECT\n",
        "    next_of_kin_relation,\n",
        "    COUNT(*) AS count,\n",
        "    (COUNT(*) / (SELECT COUNT(*) FROM contact_details)) * 100 AS percentage\n",
        "FROM\n",
        "    contact_details\n",
        "GROUP BY\n",
        "    next_of_kin_relation;"
      ],
      "metadata": {
        "colab": {
          "base_uri": "https://localhost:8080/"
        },
        "id": "2OXkNk4-SyVL",
        "outputId": "86268d40-b9ab-4496-9c81-f04a2627a01c"
      },
      "execution_count": 25,
      "outputs": [
        {
          "output_type": "stream",
          "name": "stdout",
          "text": [
            " * sqlite:///stud.db\n",
            "Done.\n"
          ]
        },
        {
          "output_type": "execute_result",
          "data": {
            "text/plain": [
              "[]"
            ]
          },
          "metadata": {},
          "execution_count": 25
        }
      ]
    }
  ]
}